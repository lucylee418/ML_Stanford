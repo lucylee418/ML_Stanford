{
 "cells": [
  {
   "cell_type": "markdown",
   "metadata": {},
   "source": [
    "# Week 9"
   ]
  },
  {
   "cell_type": "markdown",
   "metadata": {},
   "source": [
    "## 1. Anomaly Detection"
   ]
  },
  {
   "cell_type": "markdown",
   "metadata": {},
   "source": [
    "### - Motivation\n",
    "* Model $p(x)$ from data\n",
    "* Check data which has $p(x)<\\epsilon$\n",
    "* cf) Multivariate Gaussian Distribution\n"
   ]
  },
  {
   "cell_type": "markdown",
   "metadata": {},
   "source": [
    "### - Density Estimation with Gaussian(Normal) Distribusion\n",
    "* $p(x) = p(x_1;\\mu_1,\\sigma_1^2)p(x_2;\\mu_2,\\sigma_2^2)...p(x_n;\\mu_n,\\sigma_n^2)$"
   ]
  },
  {
   "cell_type": "markdown",
   "metadata": {},
   "source": [
    "### -Algorithm\n",
    "1. Choose features $x_i$ that you think might be indicative of anomalous examples.\n",
    "2. Fit parameters $\\mu_1, ..., \\mu_n$, and $\\sigma_1^2, ..., \\sigma_n^2$<br>\n",
    "$\\mu_j = \\frac{1}{m}\\sum_{i=1}^mx_j^{(i)}$<br>\n",
    "$\\sigma_j^2 = \\frac{1}{m}\\sum_{i=1}^m(x_j^{(i)}-\\mu_j)^2$\n",
    "3. Given new example x, compute p(x):<br>\n",
    "$p(x) = \\prod_{j=1}^np(x_j;\\mu_j,\\sigma_j^2) = \\prod_{j=1}^n\\frac{1}{\\sqrt{2\\pi}\\sigma_j}\\exp(-\\frac{(x_j-\\mu_j)^2}{2\\sigma_j^2})$\n",
    "4. Anomaly if $p(x) \\lt \\epsilon$\n",
    "\n",
    "\n"
   ]
  },
  {
   "cell_type": "markdown",
   "metadata": {},
   "source": [
    "### - Algorithm Evaluation\n",
    "* True positive, false positive, false negative, true negative\n",
    "* Precision/Recall\n",
    "* $F_1$ Score"
   ]
  },
  {
   "cell_type": "markdown",
   "metadata": {},
   "source": [
    "### - Choosing What Freatures to Use\n",
    "* Transform Non-Gaussian features to look like *Gaussian* : e.g. $\\log(x)$\n",
    "* Try coming up with more features to distinguish between the normal and the anomalous examples."
   ]
  },
  {
   "cell_type": "markdown",
   "metadata": {},
   "source": [
    "## 2. Anomaly Detection vs. Supervised Learning"
   ]
  },
  {
   "cell_type": "markdown",
   "metadata": {},
   "source": [
    "### - Anomaly Detection\n",
    "* **When to use:**<br>\n",
    "* Very small number of positive examples (y=1) (0-20 is common).\n",
    "* Large number of negative (y=0) examples.\n",
    "* Many different types of anomalies. Hard for any algorithm to learn from positive examples what the anomalies look like;<br>\n",
    "Future anomalies may look nothing like any of the anomalous examples we've seen so far.\n",
    "<br><br>\n",
    "* **examples:**<br>\n",
    "* Fraud detection\n",
    "* Manufacturing (e.g. aircraft engines)\n",
    "* Monitoring machines in a data center\n",
    "\n",
    "### - Supervised Learning\n",
    "* **When to use:**<br>\n",
    "* Large number of positive and negative examples.\n",
    "* Enough positive examples for algorithm to get a sense of what positive examples are like, future positive examples likely to be similar to ones in training set.\n",
    "<br><br>\n",
    "* **examples:**<br>\n",
    "* Email spam classification\n",
    "* Weather prediction(sunny/rainy/etc)\n",
    "* Cancer classification"
   ]
  },
  {
   "cell_type": "markdown",
   "metadata": {},
   "source": [
    "## 3. Recommender Systems"
   ]
  },
  {
   "cell_type": "markdown",
   "metadata": {},
   "source": [
    "### - Movie Rating\n",
    "* Movie $i$, User $j$<br>\n",
    "* r(i,j)=1 if use $j$ has rated movie $i$ (0 o.w.)\n",
    "* $y^{(i,j)}$ : rating by user $j$ on movie $i$\n",
    "* $\\theta^{(i)}$ : parameter vector for user $j$\n",
    "* $x^{(i)}$ : feature vector for movie $i$<br>\n",
    "* $min_{\\theta^{(j)}}\\frac{1}{2}\\sum_{i:r(i,j)=1}((\\theta^{(i)})^T)x^{(i)} - y^{(i,j)})^2 + \\frac{\\lambda}{2}\\sum_{k=1}^n(\\theta_k^{(j)})^2$"
   ]
  },
  {
   "cell_type": "markdown",
   "metadata": {},
   "source": [
    "## 4. Collaborative Filtering"
   ]
  },
  {
   "cell_type": "markdown",
   "metadata": {},
   "source": [
    "### - "
   ]
  },
  {
   "cell_type": "markdown",
   "metadata": {},
   "source": [
    "## 5. Low Rank Matrix Factorization"
   ]
  },
  {
   "cell_type": "markdown",
   "metadata": {},
   "source": [
    "### - "
   ]
  }
 ],
 "metadata": {
  "language_info": {
   "name": "python"
  },
  "orig_nbformat": 4
 },
 "nbformat": 4,
 "nbformat_minor": 2
}
