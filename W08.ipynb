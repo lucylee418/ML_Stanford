{
 "cells": [
  {
   "cell_type": "markdown",
   "metadata": {},
   "source": [
    "# Week 8"
   ]
  },
  {
   "cell_type": "markdown",
   "metadata": {},
   "source": [
    "## Clustering : Unsupervised Learning"
   ]
  },
  {
   "cell_type": "markdown",
   "metadata": {},
   "source": [
    "### 1. K-Means Algorithm\n",
    ": Randomly initializs K cluster centroids $\\mu_1, \\mu_2, ..., \\mu_K \\in R^n$<br>\n",
    "&nbsp; Repeat{<br>\n",
    "&nbsp; &nbsp; for $i=1$ to $m$<br>\n",
    "&nbsp; &nbsp; &nbsp; &nbsp; &nbsp; $c^{(i)} := $ index (from 1 to $K$) of cluster centroid closest to $x^{(i)}$<br>\n",
    "&nbsp; &nbsp; for $k=1$ to $K$<br>\n",
    "&nbsp; &nbsp; &nbsp; &nbsp; &nbsp; $\\mu_k :=$ average (mean) of points assigned to cluster $k$<br>\n",
    "}"
   ]
  },
  {
   "cell_type": "markdown",
   "metadata": {},
   "source": [
    "##### $\\bullet$ Random Initialization<br>\n",
    "* Randomly pick $K$ training examples.<br>\n",
    "* Set $\\mu_1, ..., \\mu_K$ equal to these $K$ examples.<br>\n",
    "cf) Try multiple random initializations to get global optima"
   ]
  },
  {
   "cell_type": "markdown",
   "metadata": {},
   "source": [
    "##### $\\bullet$ Choosing the Number of Clusters"
   ]
  },
  {
   "cell_type": "markdown",
   "metadata": {},
   "source": [
    "* Elbow method<br>\n",
    "cf) Using human insight is better"
   ]
  },
  {
   "cell_type": "markdown",
   "metadata": {},
   "source": [
    "### 2. Principal Component Analysis (PCA)"
   ]
  },
  {
   "cell_type": "markdown",
   "metadata": {},
   "source": [
    "cf) PCA is NOT Linear Regression\n",
    "##### $\\bullet$ Preprocessing\n",
    "* Feature Scaling\n",
    "* Mean Normalization\n",
    "##### $\\bullet$ Reduce data\n",
    "* Compute *covariance matrix* (nxn)\n",
    "* Compute *eigenvectors* of covatiance matrix\n",
    "* $z = U_{reduce}^Tx$"
   ]
  },
  {
   "cell_type": "markdown",
   "metadata": {},
   "source": [
    "##### $\\bullet$ More about PCA\n",
    "* Reconstruction from Compressed Representation\n",
    "* $x_{approx} = U_{reduce}z^{(i)}$\n",
    "* Choosing the Number of Principal Components"
   ]
  },
  {
   "cell_type": "markdown",
   "metadata": {},
   "source": [
    "$$\\frac{\\frac{1}{m}\\sum_{i=1}^m \\parallel x^{(i)}-x_{approx}^{(i)} \\parallel ^2}{\\frac{1}{m}\\sum_{i=1}^m \\parallel x^{(i)} \\parallel ^2} \\le 0.01$$\n",
    "$$ \\rightarrow \\frac{\\sum_{i=1}^kS_{ii}}{\\sum_{i=1}^mS_{ii}} \\ge 0.99$$"
   ]
  }
 ],
 "metadata": {
  "language_info": {
   "name": "python"
  },
  "orig_nbformat": 4
 },
 "nbformat": 4,
 "nbformat_minor": 2
}
