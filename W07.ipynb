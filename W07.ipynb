{
 "cells": [
  {
   "cell_type": "markdown",
   "metadata": {},
   "source": [
    "# Week 7"
   ]
  },
  {
   "cell_type": "markdown",
   "metadata": {},
   "source": [
    "### - Support Vector Machine\n",
    ": $min_\\theta C \\sum_{i=1}^m[y^{(i)}cost_1(\\theta^T x^{(i)} + (1-y^{(i)})cost_0(\\theta^T x^{(i)})] + \\frac{1}{2}\\sum_{i=1}^n\\theta_j^2$<br>\n",
    "$\\rightarrow$ If y=1, we want $\\theta^Tx \\ge 1$ (not just $\\ge 0$)<br>\n",
    "$\\rightarrow$ If y=0, we want $\\theta^Tx \\le -1$ (not just $\\lt 0$)<br>"
   ]
  },
  {
   "cell_type": "markdown",
   "metadata": {},
   "source": [
    "### - SVM parameters"
   ]
  },
  {
   "cell_type": "markdown",
   "metadata": {},
   "source": [
    "1. C (=$\\frac{1}{\\lambda}$)<br>\n",
    "$\\rightarrow $ Large C : Lower bias, Higher variance<br>\n",
    "$\\rightarrow $ Small C : Higher bias, Lower variance"
   ]
  },
  {
   "cell_type": "markdown",
   "metadata": {},
   "source": [
    "2. $\\sigma^2$<br>\n",
    "$\\rightarrow$ Large $\\sigma^2$ : Features vary more smoothly (Higher bias, Lower variance)<br>\n",
    "$\\rightarrow$ Small $\\sigma^2$ : Features vary less smoothly (Lower bias, Higher variance)"
   ]
  }
 ],
 "metadata": {
  "language_info": {
   "name": "python"
  },
  "orig_nbformat": 4
 },
 "nbformat": 4,
 "nbformat_minor": 2
}
