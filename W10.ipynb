{
 "cells": [
  {
   "cell_type": "markdown",
   "metadata": {},
   "source": [
    "# Week 10"
   ]
  },
  {
   "cell_type": "markdown",
   "metadata": {},
   "source": [
    "## 1. Gradient Descent with Large Datasets"
   ]
  },
  {
   "cell_type": "markdown",
   "metadata": {},
   "source": [
    "### - Learning with Large Datasets\n",
    "* Deciding the number of data of a subset<br>\n",
    ": Plot a learning curve for a range of values of m and verify that the algorithm has high variance when m is small."
   ]
  },
  {
   "cell_type": "markdown",
   "metadata": {},
   "source": [
    "### - Stochastic Gradient Descent\n",
    "1. Randomly shuffke dataset/\n",
    "2. Repeat {<br>\n",
    "&nbsp; &nbsp; for i=1, ..., m {<br>\n",
    "&nbsp; &nbsp; &nbsp; &nbsp; for j = 0, ..., n {<br>\n",
    "&nbsp; &nbsp; &nbsp; &nbsp; &nbsp; &nbsp; $\\theta_j = \\theta_j - \\alpha(h_\\theta(x^{(i)})-y^{(i)})x_j^{(i)}$<br>\n",
    "&nbsp; &nbsp; &nbsp; &nbsp; &nbsp; &nbsp; }<br>\n",
    "&nbsp; &nbsp; &nbsp; &nbsp; }<br>\n",
    "&nbsp; &nbsp; }"
   ]
  },
  {
   "cell_type": "markdown",
   "metadata": {},
   "source": [
    "### - Compare\n",
    "* **Batch gradient descent** : Use all $m$ examples in each iteration\n",
    "* **Stochastic gradient descent** : Use 1 example in each iteration\n",
    "* **Mini-batch gradient descnt** : Use $b$ examples in each iteration<br>\n",
    "e.g. $b=10, m=1000$<br>\n",
    "Repeat {<br>\n",
    "&nbsp; &nbsp; for i=1, 11, 21, ... , 991 {<br>\n",
    "&nbsp; &nbsp; &nbsp; &nbsp; for j = 0, ..., n {<br>\n",
    "&nbsp; &nbsp; &nbsp; &nbsp; &nbsp; &nbsp; $\\theta_j = \\theta_j - \\alpha\\frac{1}{10}\\sum_{k=i}^{i+9}(h_\\theta(x^{(k)})-y^{(k)})x_j^{(k)}$<br>\n",
    "&nbsp; &nbsp; &nbsp; &nbsp; &nbsp; &nbsp; }<br>\n",
    "&nbsp; &nbsp; &nbsp; &nbsp; }<br>\n",
    "&nbsp; &nbsp; }\n"
   ]
  },
  {
   "cell_type": "markdown",
   "metadata": {},
   "source": [
    "### - Stochastic Gradient Descent Convergence"
   ]
  },
  {
   "cell_type": "markdown",
   "metadata": {},
   "source": [
    "## 2. Advanced Topics"
   ]
  },
  {
   "cell_type": "markdown",
   "metadata": {},
   "source": []
  }
 ],
 "metadata": {
  "language_info": {
   "name": "python"
  },
  "orig_nbformat": 4
 },
 "nbformat": 4,
 "nbformat_minor": 2
}
