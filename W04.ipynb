{
 "cells": [
  {
   "cell_type": "markdown",
   "metadata": {},
   "source": [
    "# Week 4"
   ]
  },
  {
   "cell_type": "markdown",
   "metadata": {},
   "source": [
    "## 1. Neural Networks"
   ]
  },
  {
   "cell_type": "markdown",
   "metadata": {},
   "source": [
    "### - Notaion<br>\n",
    "* $x_0$ : bias unit(=1), can be omitted.<br>\n",
    "* $\\theta$ : weights, parameters<br>\n",
    "* $\\Theta_j$ : matrix of weights controlling function mappiing from layer $i$ to layer $i+1$<br>\n",
    "$\\rightarrow$ $s_{i+1}$ x $(s_i+1)$ dimension\n",
    "* $a_{ij}$ : activation of unit $j$ in layer $i$<br>\n",
    "* Sigmoid (logistic) activation function : $h_\\Theta(x) = g(\\theta^Tx)= \\frac{1}{1+e^{-\\theta^Tx}}$<br>\n",
    "* $g(z)= \\frac{1}{1+e^{-z}}$<br>\n",
    "* Input layer -> Hidden layer(s) -> Output layer<br>"
   ]
  },
  {
   "cell_type": "markdown",
   "metadata": {},
   "source": [
    "### - Model Representation<br>\n",
    "* $a_{ij} = g(\\Theta_{i, j0}x_0+\\Theta_{i, j1}x_1+ \\Theta_{i, j2}x_2 + ... + \\Theta_{i, jn}x_n) = g(z_{ij})$<br>\n",
    "* $z_{ij}=\\Theta_{i, j0}x_0 + \\Theta_{i, j1}x_1 + ... + \\Theta_{i, jn}x_n$<br>\n",
    "$x = \\begin{bmatrix}\n",
    "x_0\\\\\n",
    "x_1\\\\\n",
    "...\\\\\n",
    "x_n\n",
    "\\end{bmatrix}, z_i = \\begin{bmatrix}\n",
    "z_{i1}\\\\\n",
    "z_{i2}\\\\\n",
    "...\\\\\n",
    "z_{in}\n",
    "\\end{bmatrix}$<br>\n",
    "* $z_i = \\Theta_{i-1}a_{i-1}$<br>\n",
    "* $a_i = g(z_i)$<br>\n",
    "* $h_\\Theta(x) = a_{i+1} = g(z_{i+1})$"
   ]
  },
  {
   "cell_type": "markdown",
   "metadata": {},
   "source": [
    "## 2. Applications"
   ]
  },
  {
   "cell_type": "markdown",
   "metadata": {},
   "source": [
    "### - Examples for x $\\in$ {0 ,1}<br>\n",
    "* OR function<br>\n",
    ": True(1) if one of them is true(1)<br>\n",
    "* AND function<br>\n",
    ": True(1) iff all of them are true(1)<br>\n",
    "* NOR function<br>\n",
    ": True(1) iff all of them are false(0)<br>\n",
    "* XNOR function<br>\n",
    ": (AND + NOR) + OR<br>\n",
    "* $g(-4.6) \\approx 0$ (=0.01)<br>\n",
    "* $g(4.6) \\approx 1$ (=0.99)<br>"
   ]
  },
  {
   "cell_type": "markdown",
   "metadata": {},
   "source": [
    "### - Multiiclass Classification<br>\n",
    ": Represent the resulting hypothesis $h_\\Theta(x) = [1000],[0100]$ and so on"
   ]
  },
  {
   "cell_type": "markdown",
   "metadata": {},
   "source": []
  }
 ],
 "metadata": {
  "language_info": {
   "name": "python"
  },
  "orig_nbformat": 4
 },
 "nbformat": 4,
 "nbformat_minor": 2
}
