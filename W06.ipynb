{
 "cells": [
  {
   "cell_type": "markdown",
   "metadata": {},
   "source": [
    "# Week 6"
   ]
  },
  {
   "cell_type": "markdown",
   "metadata": {},
   "source": [
    "## 1. Evaluating a Learning Algorithm"
   ]
  },
  {
   "cell_type": "markdown",
   "metadata": {},
   "source": [
    "### - The test set error\n",
    "* For liner regression<br>\n",
    "&nbsp; $J_{test}(\\Theta)=\\sum_{i=1}^{m_{test}}(h_\\Theta(x_{test}^{(i)})-y_{test}^{(i)})^2$\n",
    "* For classification<br>\n",
    "&nbsp; $J_{test}(\\Theta)=\\frac{1}{m_{test}}\\sum_{i=1}^{m_{test}}err(h_\\Theta(x_{test}^{(i)}), y_{test}^{(i)})$<br>\n",
    "&nbsp; where $err(h_\\Theta(x), y) = 1$ if $h_\\Theta(x) \\geq 0.5$ and $y=0$ or $h_\\Theta(x) \\lt 0.5$ and $y=1$"
   ]
  },
  {
   "cell_type": "markdown",
   "metadata": {},
   "source": [
    "### - Model Selection and Training/Validation/Test Sets\n",
    "1. Optimize the parameters in $\\Theta$ using the training set for each polynomial degree.(e.g. d=1~10)\n",
    "2. Find the polynomial degree d with the least error using the cross validation set.\n",
    "3. Estimate the generalization error using the test set with $J_{test}(\\Theta^{(d)})$"
   ]
  },
  {
   "cell_type": "markdown",
   "metadata": {},
   "source": [
    "### - Bias vs Variance\n",
    "* High Bias (Underfitting)<br>\n",
    ": Both $J_{train}(\\Theta)$ and $J_{CV}(\\Theta)$ will be high. Also, $J_{train}(\\Theta)\\approx J_{CV}(\\Theta)$\n",
    "* High Variance (Overfitting)<br>\n",
    ":  $J_{train}(\\Theta) \\ll J_{CV}(\\Theta)$"
   ]
  },
  {
   "cell_type": "markdown",
   "metadata": {},
   "source": [
    "## 3. Review"
   ]
  },
  {
   "cell_type": "markdown",
   "metadata": {},
   "source": [
    "## 4. Building a Spam Classifier"
   ]
  },
  {
   "cell_type": "markdown",
   "metadata": {},
   "source": [
    "## 5. Handling Skewed Data"
   ]
  },
  {
   "cell_type": "markdown",
   "metadata": {},
   "source": [
    "## 6. Using Large Data Sets"
   ]
  },
  {
   "cell_type": "markdown",
   "metadata": {},
   "source": [
    "## 7. Review"
   ]
  }
 ],
 "metadata": {
  "language_info": {
   "name": "python"
  },
  "orig_nbformat": 4
 },
 "nbformat": 4,
 "nbformat_minor": 2
}
